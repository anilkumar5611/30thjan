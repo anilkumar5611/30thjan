{
 "cells": [
  {
   "cell_type": "code",
   "execution_count": 4,
   "id": "7d625443",
   "metadata": {},
   "outputs": [
    {
     "name": "stdout",
     "output_type": "stream",
     "text": [
      "Enter the percentage: 59\n",
      "Grade: D\n"
     ]
    }
   ],
   "source": [
    "# q1---\n",
    "percentage = float(input(\"Enter the percentage: \"))\n",
    "\n",
    "if percentage > 90:\n",
    "    grade = \"A\"\n",
    "elif percentage > 80:\n",
    "    grade = \"B\"\n",
    "elif percentage >= 60:\n",
    "    grade = \"C\"\n",
    "else:\n",
    "    grade = \"D\"\n",
    "\n",
    "# Display the grade\n",
    "print(f\"Grade: {grade}\")\n"
   ]
  },
  {
   "cell_type": "code",
   "execution_count": 7,
   "id": "7f54418b",
   "metadata": {},
   "outputs": [
    {
     "name": "stdout",
     "output_type": "stream",
     "text": [
      "Enter the cost: 1000001\n",
      "tax is 150000.15\n"
     ]
    }
   ],
   "source": [
    "#q2---\n",
    "cost_price = float(input(\"Enter the cost: \"))\n",
    "\n",
    "if cost_price > 100000:\n",
    "    tax  =  (15*cost_price)/100\n",
    "elif cost_price >50000:\n",
    "    tax   = (10*cost_price)/100\n",
    "else:\n",
    "    tax   =(5*cost_price)/100\n",
    "    \n",
    "print(f\"tax is {tax}\")\n"
   ]
  },
  {
   "cell_type": "code",
   "execution_count": 13,
   "id": "1703bc0d",
   "metadata": {},
   "outputs": [
    {
     "name": "stdout",
     "output_type": "stream",
     "text": [
      "Enter the city: Abc\n",
      "monument is Download from internet\n"
     ]
    }
   ],
   "source": [
    "#q3--\n",
    "city =(input(\"Enter the city: \"))\n",
    "\n",
    "if city==\"Delhi\":\n",
    "    monument=\"Red fort\"\n",
    "elif city==\"Agra\":\n",
    "    monument=\"Taj Mahal\"\n",
    "elif city==\"Jaipur\":\n",
    "    monument=\"Jal Mahal\"\n",
    "else:\n",
    "    monument=\"Download from internet\"\n",
    "print(f\"monument is {monument}\")"
   ]
  },
  {
   "cell_type": "code",
   "execution_count": 21,
   "id": "18768441",
   "metadata": {},
   "outputs": [
    {
     "name": "stdout",
     "output_type": "stream",
     "text": [
      "Enter a number: 11\n",
      "The number can be divided by 3 1 times before it becomes <= 10.\n"
     ]
    }
   ],
   "source": [
    "#q4\n",
    "number = int(input(\"Enter a number: \"))\n",
    "\n",
    "count = 0\n",
    "\n",
    "while number > 10:\n",
    "    number /= 3\n",
    "    count += 1\n",
    "\n",
    "print(f\"The number can be divided by 3 {count} times before it becomes <= 10.\")\n"
   ]
  },
  {
   "cell_type": "code",
   "execution_count": 1,
   "id": "f0c88104",
   "metadata": {},
   "outputs": [],
   "source": [
    "# # Q5---\n",
    "# Why Use a while Loop\n",
    "# Repetition,Unknown Iteration Count,\n",
    "\n",
    "# When to Use a while Loop\n",
    "# Condition-Based Execution: You want to execute a block of code repeatedly based on \n",
    "#     a condition, which can change during each iteration.\n",
    "\n",
    "# Indefinite Iteration: The number of iterations is not predetermined or \n",
    "#     may vary each time the loop is executed.\n",
    "\n",
    "# User Input Validation: You need to validate user input, and \n",
    "#     the validation process requires repeated prompts until valid input is received.\n",
    "\n",
    "# Simulations and Games: When building simulations, games, or\n",
    "#     any program that involves dynamic behavior, while loops can be used to model real-world scenarios where events occur unpredictably.\n",
    "\n",
    "# Event Handling: In event-driven programming, you can use while\n",
    "#     loops to listen for and respond to events until a termination condition is met.\n"
   ]
  },
  {
   "cell_type": "code",
   "execution_count": 2,
   "id": "a7945020",
   "metadata": {},
   "outputs": [
    {
     "name": "stdout",
     "output_type": "stream",
     "text": [
      "Enter a positive number: -1\n",
      "Enter a positive number: 5\n",
      "You entered a positive number: 5\n"
     ]
    }
   ],
   "source": [
    "user_input = -1\n",
    "\n",
    "while user_input <= 0:\n",
    "    user_input = int(input(\"Enter a positive number: \"))\n",
    "    \n",
    "print(\"You entered a positive number:\", user_input)\n"
   ]
  },
  {
   "cell_type": "code",
   "execution_count": 3,
   "id": "69ea186b",
   "metadata": {},
   "outputs": [
    {
     "name": "stdout",
     "output_type": "stream",
     "text": [
      "* \n",
      "* * \n",
      "* * * \n",
      "* * * * \n",
      "* * * * * \n"
     ]
    }
   ],
   "source": [
    "#q6---\n",
    "n = 5  # Number of rows\n",
    "\n",
    "# Outer loop for rows\n",
    "row = 1\n",
    "while row <= n:\n",
    "    # Inner loop for columns\n",
    "    col = 1\n",
    "    while col <= row:\n",
    "        print('*', end=' ')\n",
    "        col += 1\n",
    "    print()  # Move to the next line after each row\n",
    "    row += 1\n"
   ]
  },
  {
   "cell_type": "code",
   "execution_count": 5,
   "id": "0f6f916b",
   "metadata": {},
   "outputs": [
    {
     "name": "stdout",
     "output_type": "stream",
     "text": [
      "* * * * \n",
      "* * * * \n",
      "* * * * \n",
      "* * * * \n"
     ]
    }
   ],
   "source": [
    "n = 4  # Number of rows and columns\n",
    "\n",
    "# Outer loop for rows\n",
    "row = 1\n",
    "while row <= n:\n",
    "    # Inner loop for columns\n",
    "    col = 1\n",
    "    while col <= n:\n",
    "        print('*', end=' ')\n",
    "        col += 1\n",
    "    print()  # Move to the next line after each row\n",
    "    row += 1\n"
   ]
  },
  {
   "cell_type": "code",
   "execution_count": 6,
   "id": "73452a6c",
   "metadata": {},
   "outputs": [
    {
     "name": "stdout",
     "output_type": "stream",
     "text": [
      "      * \n",
      "    * * * \n",
      "  * * * * * \n",
      "* * * * * * * \n"
     ]
    }
   ],
   "source": [
    "n = 4  # Number of rows\n",
    "\n",
    "# Outer loop for rows\n",
    "row = 1\n",
    "while row <= n:\n",
    "    # Inner loop for spaces\n",
    "    space = 1\n",
    "    while space <= n - row:\n",
    "        print(' ', end=' ')\n",
    "        space += 1\n",
    "    \n",
    "    # Inner loop for asterisks\n",
    "    col = 1\n",
    "    while col <= 2 * row - 1:\n",
    "        print('*', end=' ')\n",
    "        col += 1\n",
    "    \n",
    "    print()  # Move to the next line after each row\n",
    "    row += 1\n"
   ]
  },
  {
   "cell_type": "code",
   "execution_count": 7,
   "id": "fdbda1ab",
   "metadata": {},
   "outputs": [
    {
     "name": "stdout",
     "output_type": "stream",
     "text": [
      "10\n",
      "9\n",
      "8\n",
      "7\n",
      "6\n",
      "5\n",
      "4\n",
      "3\n",
      "2\n",
      "1\n"
     ]
    }
   ],
   "source": [
    "#q7----\n",
    "number = 10  # Starting number\n",
    "\n",
    "while number >= 1:\n",
    "    print(number)\n",
    "    number -= 1\n"
   ]
  },
  {
   "cell_type": "code",
   "execution_count": 8,
   "id": "a51e2f1b",
   "metadata": {},
   "outputs": [
    {
     "name": "stdout",
     "output_type": "stream",
     "text": [
      "10\n",
      "9\n",
      "8\n",
      "7\n",
      "6\n",
      "5\n",
      "4\n",
      "3\n",
      "2\n",
      "1\n"
     ]
    }
   ],
   "source": [
    "# q 8--- \n",
    "number = 10  # Starting number\n",
    "\n",
    "while number >= 1:\n",
    "    print(number)\n",
    "    number -= 1\n"
   ]
  },
  {
   "cell_type": "code",
   "execution_count": 2,
   "id": "202741c8",
   "metadata": {},
   "outputs": [
    {
     "name": "stdout",
     "output_type": "stream",
     "text": [
      "Reinitialized existing Git repository in C:/Users/Anil Kumar/Desktop/upload/.git/\n"
     ]
    }
   ],
   "source": [
    "!git init"
   ]
  },
  {
   "cell_type": "code",
   "execution_count": 3,
   "id": "8a002470",
   "metadata": {},
   "outputs": [
    {
     "name": "stderr",
     "output_type": "stream",
     "text": [
      "warning: in the working copy of '.ipynb_checkpoints/30th jan correct-checkpoint.ipynb', LF will be replaced by CRLF the next time Git touches it\n",
      "warning: in the working copy of '30th jan correct.ipynb', LF will be replaced by CRLF the next time Git touches it\n"
     ]
    }
   ],
   "source": [
    "!git add ."
   ]
  },
  {
   "cell_type": "code",
   "execution_count": null,
   "id": "17ac514e",
   "metadata": {},
   "outputs": [],
   "source": []
  }
 ],
 "metadata": {
  "kernelspec": {
   "display_name": "Python 3 (ipykernel)",
   "language": "python",
   "name": "python3"
  },
  "language_info": {
   "codemirror_mode": {
    "name": "ipython",
    "version": 3
   },
   "file_extension": ".py",
   "mimetype": "text/x-python",
   "name": "python",
   "nbconvert_exporter": "python",
   "pygments_lexer": "ipython3",
   "version": "3.11.2"
  }
 },
 "nbformat": 4,
 "nbformat_minor": 5
}
